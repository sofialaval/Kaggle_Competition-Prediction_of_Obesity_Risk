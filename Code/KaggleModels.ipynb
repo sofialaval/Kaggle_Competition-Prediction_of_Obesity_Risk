{
  "cells": [
    {
      "cell_type": "code",
      "execution_count": null,
      "metadata": {
        "id": "ZV8Uar--iiO3"
      },
      "outputs": [],
      "source": [
        "import pandas as pd\n",
        "import numpy as np\n",
        "from sklearn.model_selection import train_test_split\n",
        "from sklearn.model_selection import GridSearchCV\n",
        "from sklearn.linear_model import LogisticRegression\n",
        "from sklearn.ensemble import GradientBoostingClassifier\n",
        "from xgboost import XGBClassifier\n",
        "import catboost\n",
        "from catboost import CatBoostClassifier\n",
        "from sklearn.metrics import accuracy_score, classification_report"
      ]
    },
    {
      "cell_type": "code",
      "source": [
        "from google.colab import drive\n",
        "drive.mount('/content/drive')"
      ],
      "metadata": {
        "colab": {
          "base_uri": "https://localhost:8080/"
        },
        "id": "vvD8m0zd4l7b",
        "outputId": "ba43011e-eb31-45aa-ce97-3fc29139b2bf"
      },
      "execution_count": null,
      "outputs": [
        {
          "output_type": "stream",
          "name": "stdout",
          "text": [
            "Mounted at /content/drive\n"
          ]
        }
      ]
    },
    {
      "cell_type": "code",
      "source": [
        "!pip install catboost"
      ],
      "metadata": {
        "colab": {
          "base_uri": "https://localhost:8080/"
        },
        "id": "hUiosAhyi2x8",
        "outputId": "ed8a07cf-dcc3-4119-953c-cd264f1410b8"
      },
      "execution_count": null,
      "outputs": [
        {
          "output_type": "stream",
          "name": "stdout",
          "text": [
            "Collecting catboost\n",
            "  Downloading catboost-1.2.3-cp310-cp310-manylinux2014_x86_64.whl (98.5 MB)\n",
            "\u001b[2K     \u001b[90m━━━━━━━━━━━━━━━━━━━━━━━━━━━━━━━━━━━━━━━━\u001b[0m \u001b[32m98.5/98.5 MB\u001b[0m \u001b[31m8.7 MB/s\u001b[0m eta \u001b[36m0:00:00\u001b[0m\n",
            "\u001b[?25hRequirement already satisfied: graphviz in /usr/local/lib/python3.10/dist-packages (from catboost) (0.20.1)\n",
            "Requirement already satisfied: matplotlib in /usr/local/lib/python3.10/dist-packages (from catboost) (3.7.1)\n",
            "Requirement already satisfied: numpy>=1.16.0 in /usr/local/lib/python3.10/dist-packages (from catboost) (1.25.2)\n",
            "Requirement already satisfied: pandas>=0.24 in /usr/local/lib/python3.10/dist-packages (from catboost) (1.5.3)\n",
            "Requirement already satisfied: scipy in /usr/local/lib/python3.10/dist-packages (from catboost) (1.11.4)\n",
            "Requirement already satisfied: plotly in /usr/local/lib/python3.10/dist-packages (from catboost) (5.15.0)\n",
            "Requirement already satisfied: six in /usr/local/lib/python3.10/dist-packages (from catboost) (1.16.0)\n",
            "Requirement already satisfied: python-dateutil>=2.8.1 in /usr/local/lib/python3.10/dist-packages (from pandas>=0.24->catboost) (2.8.2)\n",
            "Requirement already satisfied: pytz>=2020.1 in /usr/local/lib/python3.10/dist-packages (from pandas>=0.24->catboost) (2023.4)\n",
            "Requirement already satisfied: contourpy>=1.0.1 in /usr/local/lib/python3.10/dist-packages (from matplotlib->catboost) (1.2.0)\n",
            "Requirement already satisfied: cycler>=0.10 in /usr/local/lib/python3.10/dist-packages (from matplotlib->catboost) (0.12.1)\n",
            "Requirement already satisfied: fonttools>=4.22.0 in /usr/local/lib/python3.10/dist-packages (from matplotlib->catboost) (4.49.0)\n",
            "Requirement already satisfied: kiwisolver>=1.0.1 in /usr/local/lib/python3.10/dist-packages (from matplotlib->catboost) (1.4.5)\n",
            "Requirement already satisfied: packaging>=20.0 in /usr/local/lib/python3.10/dist-packages (from matplotlib->catboost) (23.2)\n",
            "Requirement already satisfied: pillow>=6.2.0 in /usr/local/lib/python3.10/dist-packages (from matplotlib->catboost) (9.4.0)\n",
            "Requirement already satisfied: pyparsing>=2.3.1 in /usr/local/lib/python3.10/dist-packages (from matplotlib->catboost) (3.1.1)\n",
            "Requirement already satisfied: tenacity>=6.2.0 in /usr/local/lib/python3.10/dist-packages (from plotly->catboost) (8.2.3)\n",
            "Installing collected packages: catboost\n",
            "Successfully installed catboost-1.2.3\n"
          ]
        }
      ]
    },
    {
      "cell_type": "code",
      "execution_count": null,
      "metadata": {
        "id": "STNDPvWfiiO_"
      },
      "outputs": [],
      "source": [
        "df_train = pd.read_csv(\"train-obesity.csv\")\n",
        "df_test = pd.read_csv(\"test-obesity.csv\")"
      ]
    },
    {
      "cell_type": "code",
      "execution_count": null,
      "metadata": {
        "id": "u9csM838iiPB"
      },
      "outputs": [],
      "source": [
        "# Store 'ids' for future use\n",
        "train_ids = df_train['id']\n",
        "test_ids = df_test['id']\n",
        "\n",
        "# Remove ID\n",
        "df_train = df_train.drop('id',axis = 1)\n",
        "df_test = df_test.drop('id',axis = 1)"
      ]
    },
    {
      "cell_type": "markdown",
      "metadata": {
        "id": "Bf8SzcFaiiPC"
      },
      "source": [
        "# Store Categorical Features"
      ]
    },
    {
      "cell_type": "code",
      "execution_count": null,
      "metadata": {
        "id": "LNUexliBiiPJ"
      },
      "outputs": [],
      "source": [
        "# Categorical Features\n",
        "cat_feat = df_train.select_dtypes(exclude=['number']).columns.tolist()\n",
        "cat_feat_x = [col for col in cat_feat if col != 'NObeyesdad' ]\n",
        "cat_feat_indices = [df_train.columns.get_loc(col) for col in cat_feat_x]"
      ]
    },
    {
      "cell_type": "markdown",
      "metadata": {
        "id": "Nt2Ledk7iiPK"
      },
      "source": [
        "## X and Y Split"
      ]
    },
    {
      "cell_type": "code",
      "execution_count": null,
      "metadata": {
        "id": "qTU6OQ91iiPM"
      },
      "outputs": [],
      "source": [
        "x_train = df_train.loc[:, ~df_train.columns.isin(['NObeyesdad'])]\n",
        "y_train = df_train['NObeyesdad']\n",
        "\n",
        "x_test = df_test.loc[:, ~df_test.columns.isin(['NObeyesdad'])]"
      ]
    },
    {
      "cell_type": "markdown",
      "metadata": {
        "id": "kR3qXmcsiiPP"
      },
      "source": [
        "# Boosting\n"
      ]
    },
    {
      "cell_type": "code",
      "execution_count": null,
      "metadata": {
        "colab": {
          "base_uri": "https://localhost:8080/"
        },
        "id": "QYiLNBANiiPQ",
        "outputId": "d3e680de-000d-4af8-ce0e-5b4c1dee159a"
      },
      "outputs": [
        {
          "output_type": "stream",
          "name": "stdout",
          "text": [
            "0:\tlearn: 0.7581174\ttotal: 144ms\tremaining: 21.4s\n",
            "1:\tlearn: 0.8070623\ttotal: 277ms\tremaining: 20.5s\n",
            "2:\tlearn: 0.8274882\ttotal: 413ms\tremaining: 20.2s\n",
            "3:\tlearn: 0.8338954\ttotal: 547ms\tremaining: 20s\n",
            "4:\tlearn: 0.8464688\ttotal: 693ms\tremaining: 20.1s\n",
            "5:\tlearn: 0.8567299\ttotal: 822ms\tremaining: 19.7s\n",
            "6:\tlearn: 0.8607766\ttotal: 961ms\tremaining: 19.6s\n",
            "7:\tlearn: 0.8645823\ttotal: 1.1s\tremaining: 19.6s\n",
            "8:\tlearn: 0.8682917\ttotal: 1.24s\tremaining: 19.5s\n",
            "9:\tlearn: 0.8720975\ttotal: 1.38s\tremaining: 19.4s\n",
            "10:\tlearn: 0.8757587\ttotal: 1.51s\tremaining: 19.2s\n",
            "11:\tlearn: 0.8765777\ttotal: 1.66s\tremaining: 19.1s\n",
            "12:\tlearn: 0.8806243\ttotal: 1.82s\tremaining: 19.2s\n",
            "13:\tlearn: 0.8815878\ttotal: 1.96s\tremaining: 19s\n",
            "14:\tlearn: 0.8834666\ttotal: 2.12s\tremaining: 19s\n",
            "15:\tlearn: 0.8850082\ttotal: 2.26s\tremaining: 18.9s\n",
            "16:\tlearn: 0.8877059\ttotal: 2.4s\tremaining: 18.8s\n",
            "17:\tlearn: 0.8892475\ttotal: 2.54s\tremaining: 18.6s\n",
            "18:\tlearn: 0.8905482\ttotal: 2.69s\tremaining: 18.5s\n",
            "19:\tlearn: 0.8917044\ttotal: 2.84s\tremaining: 18.5s\n",
            "20:\tlearn: 0.8939204\ttotal: 2.98s\tremaining: 18.3s\n",
            "21:\tlearn: 0.8949802\ttotal: 3.13s\tremaining: 18.2s\n",
            "22:\tlearn: 0.8959919\ttotal: 3.28s\tremaining: 18.1s\n",
            "23:\tlearn: 0.8963291\ttotal: 3.43s\tremaining: 18s\n",
            "24:\tlearn: 0.8971963\ttotal: 3.58s\tremaining: 17.9s\n",
            "25:\tlearn: 0.8983524\ttotal: 3.74s\tremaining: 17.8s\n",
            "26:\tlearn: 0.8994604\ttotal: 3.89s\tremaining: 17.7s\n",
            "27:\tlearn: 0.9002794\ttotal: 4.04s\tremaining: 17.6s\n",
            "28:\tlearn: 0.9012429\ttotal: 4.19s\tremaining: 17.5s\n",
            "29:\tlearn: 0.9011947\ttotal: 4.35s\tremaining: 17.4s\n",
            "30:\tlearn: 0.9018210\ttotal: 4.5s\tremaining: 17.3s\n",
            "31:\tlearn: 0.9027845\ttotal: 4.67s\tremaining: 17.2s\n",
            "32:\tlearn: 0.9037961\ttotal: 4.91s\tremaining: 17.4s\n",
            "33:\tlearn: 0.9038925\ttotal: 5.2s\tremaining: 17.7s\n",
            "34:\tlearn: 0.9043742\ttotal: 5.49s\tremaining: 18.1s\n",
            "35:\tlearn: 0.9046633\ttotal: 5.74s\tremaining: 18.2s\n",
            "36:\tlearn: 0.9049041\ttotal: 5.97s\tremaining: 18.2s\n",
            "37:\tlearn: 0.9055786\ttotal: 6.19s\tremaining: 18.3s\n",
            "38:\tlearn: 0.9057713\ttotal: 6.34s\tremaining: 18s\n",
            "39:\tlearn: 0.9064939\ttotal: 6.49s\tremaining: 17.8s\n",
            "40:\tlearn: 0.9068311\ttotal: 6.63s\tremaining: 17.6s\n",
            "41:\tlearn: 0.9072647\ttotal: 6.79s\tremaining: 17.5s\n",
            "42:\tlearn: 0.9076982\ttotal: 6.93s\tremaining: 17.2s\n",
            "43:\tlearn: 0.9078909\ttotal: 7.09s\tremaining: 17.1s\n",
            "44:\tlearn: 0.9086617\ttotal: 7.24s\tremaining: 16.9s\n",
            "45:\tlearn: 0.9087581\ttotal: 7.4s\tremaining: 16.7s\n",
            "46:\tlearn: 0.9095770\ttotal: 7.55s\tremaining: 16.5s\n",
            "47:\tlearn: 0.9100106\ttotal: 7.69s\tremaining: 16.3s\n",
            "48:\tlearn: 0.9111186\ttotal: 7.85s\tremaining: 16.2s\n",
            "49:\tlearn: 0.9112150\ttotal: 8.01s\tremaining: 16s\n",
            "50:\tlearn: 0.9119857\ttotal: 8.17s\tremaining: 15.9s\n",
            "51:\tlearn: 0.9121784\ttotal: 8.31s\tremaining: 15.7s\n",
            "52:\tlearn: 0.9124675\ttotal: 8.46s\tremaining: 15.5s\n",
            "53:\tlearn: 0.9132864\ttotal: 8.6s\tremaining: 15.3s\n",
            "54:\tlearn: 0.9133828\ttotal: 8.77s\tremaining: 15.1s\n",
            "55:\tlearn: 0.9133828\ttotal: 8.91s\tremaining: 15s\n",
            "56:\tlearn: 0.9134310\ttotal: 9.06s\tremaining: 14.8s\n",
            "57:\tlearn: 0.9141054\ttotal: 9.21s\tremaining: 14.6s\n",
            "58:\tlearn: 0.9143945\ttotal: 9.36s\tremaining: 14.4s\n",
            "59:\tlearn: 0.9150689\ttotal: 9.51s\tremaining: 14.3s\n",
            "60:\tlearn: 0.9150207\ttotal: 9.67s\tremaining: 14.1s\n",
            "61:\tlearn: 0.9159360\ttotal: 9.83s\tremaining: 14s\n",
            "62:\tlearn: 0.9164659\ttotal: 9.98s\tremaining: 13.8s\n",
            "63:\tlearn: 0.9162251\ttotal: 10.1s\tremaining: 13.6s\n",
            "64:\tlearn: 0.9168032\ttotal: 10.3s\tremaining: 13.4s\n",
            "65:\tlearn: 0.9168513\ttotal: 10.4s\tremaining: 13.2s\n",
            "66:\tlearn: 0.9175739\ttotal: 10.6s\tremaining: 13.1s\n",
            "67:\tlearn: 0.9181520\ttotal: 10.7s\tremaining: 12.9s\n",
            "68:\tlearn: 0.9180075\ttotal: 10.9s\tremaining: 12.8s\n",
            "69:\tlearn: 0.9182002\ttotal: 11s\tremaining: 12.6s\n",
            "70:\tlearn: 0.9188265\ttotal: 11.2s\tremaining: 12.4s\n",
            "71:\tlearn: 0.9187783\ttotal: 11.3s\tremaining: 12.3s\n",
            "72:\tlearn: 0.9190673\ttotal: 11.5s\tremaining: 12.1s\n",
            "73:\tlearn: 0.9191637\ttotal: 11.6s\tremaining: 11.9s\n",
            "74:\tlearn: 0.9192119\ttotal: 11.8s\tremaining: 11.8s\n",
            "75:\tlearn: 0.9195491\ttotal: 11.9s\tremaining: 11.6s\n",
            "76:\tlearn: 0.9198381\ttotal: 12.1s\tremaining: 11.4s\n",
            "77:\tlearn: 0.9199345\ttotal: 12.2s\tremaining: 11.3s\n",
            "78:\tlearn: 0.9199827\ttotal: 12.4s\tremaining: 11.1s\n",
            "79:\tlearn: 0.9203681\ttotal: 12.5s\tremaining: 10.9s\n",
            "80:\tlearn: 0.9205126\ttotal: 12.7s\tremaining: 10.8s\n",
            "81:\tlearn: 0.9206089\ttotal: 12.8s\tremaining: 10.6s\n",
            "82:\tlearn: 0.9206089\ttotal: 13s\tremaining: 10.5s\n",
            "83:\tlearn: 0.9204644\ttotal: 13.1s\tremaining: 10.3s\n",
            "84:\tlearn: 0.9205607\ttotal: 13.3s\tremaining: 10.2s\n",
            "85:\tlearn: 0.9213315\ttotal: 13.4s\tremaining: 10s\n",
            "86:\tlearn: 0.9211388\ttotal: 13.6s\tremaining: 9.85s\n",
            "87:\tlearn: 0.9212834\ttotal: 13.8s\tremaining: 9.69s\n",
            "88:\tlearn: 0.9222468\ttotal: 13.9s\tremaining: 9.53s\n",
            "89:\tlearn: 0.9221505\ttotal: 14.1s\tremaining: 9.37s\n",
            "90:\tlearn: 0.9227286\ttotal: 14.2s\tremaining: 9.21s\n",
            "91:\tlearn: 0.9226322\ttotal: 14.4s\tremaining: 9.05s\n",
            "92:\tlearn: 0.9229695\ttotal: 14.5s\tremaining: 8.89s\n",
            "93:\tlearn: 0.9234994\ttotal: 14.7s\tremaining: 8.74s\n",
            "94:\tlearn: 0.9238366\ttotal: 14.8s\tremaining: 8.58s\n",
            "95:\tlearn: 0.9242220\ttotal: 15s\tremaining: 8.42s\n",
            "96:\tlearn: 0.9244147\ttotal: 15.1s\tremaining: 8.26s\n",
            "97:\tlearn: 0.9247037\ttotal: 15.3s\tremaining: 8.1s\n",
            "98:\tlearn: 0.9248964\ttotal: 15.4s\tremaining: 7.95s\n",
            "99:\tlearn: 0.9253300\ttotal: 15.6s\tremaining: 7.79s\n",
            "100:\tlearn: 0.9253300\ttotal: 15.7s\tremaining: 7.63s\n",
            "101:\tlearn: 0.9251373\ttotal: 15.9s\tremaining: 7.48s\n",
            "102:\tlearn: 0.9252818\ttotal: 16.1s\tremaining: 7.33s\n",
            "103:\tlearn: 0.9256672\ttotal: 16.3s\tremaining: 7.2s\n",
            "104:\tlearn: 0.9258117\ttotal: 16.5s\tremaining: 7.09s\n",
            "105:\tlearn: 0.9262935\ttotal: 16.8s\tremaining: 6.97s\n",
            "106:\tlearn: 0.9263898\ttotal: 17.1s\tremaining: 6.87s\n",
            "107:\tlearn: 0.9266789\ttotal: 17.3s\tremaining: 6.74s\n",
            "108:\tlearn: 0.9268716\ttotal: 17.6s\tremaining: 6.62s\n",
            "109:\tlearn: 0.9267752\ttotal: 17.7s\tremaining: 6.45s\n",
            "110:\tlearn: 0.9273051\ttotal: 17.9s\tremaining: 6.29s\n",
            "111:\tlearn: 0.9275460\ttotal: 18s\tremaining: 6.12s\n",
            "112:\tlearn: 0.9276424\ttotal: 18.2s\tremaining: 5.96s\n",
            "113:\tlearn: 0.9275460\ttotal: 18.4s\tremaining: 5.8s\n",
            "114:\tlearn: 0.9281241\ttotal: 18.5s\tremaining: 5.63s\n",
            "115:\tlearn: 0.9278832\ttotal: 18.7s\tremaining: 5.47s\n",
            "116:\tlearn: 0.9282204\ttotal: 18.8s\tremaining: 5.3s\n",
            "117:\tlearn: 0.9286058\ttotal: 19s\tremaining: 5.14s\n",
            "118:\tlearn: 0.9292321\ttotal: 19.1s\tremaining: 4.98s\n",
            "119:\tlearn: 0.9289912\ttotal: 19.3s\tremaining: 4.82s\n",
            "120:\tlearn: 0.9291358\ttotal: 19.4s\tremaining: 4.65s\n",
            "121:\tlearn: 0.9289912\ttotal: 19.6s\tremaining: 4.49s\n",
            "122:\tlearn: 0.9291358\ttotal: 19.7s\tremaining: 4.33s\n",
            "123:\tlearn: 0.9296657\ttotal: 19.9s\tremaining: 4.17s\n",
            "124:\tlearn: 0.9299547\ttotal: 20s\tremaining: 4.01s\n",
            "125:\tlearn: 0.9299065\ttotal: 20.2s\tremaining: 3.84s\n",
            "126:\tlearn: 0.9304846\ttotal: 20.3s\tremaining: 3.68s\n",
            "127:\tlearn: 0.9308700\ttotal: 20.5s\tremaining: 3.52s\n",
            "128:\tlearn: 0.9312554\ttotal: 20.6s\tremaining: 3.36s\n",
            "129:\tlearn: 0.9314963\ttotal: 20.8s\tremaining: 3.19s\n",
            "130:\tlearn: 0.9316890\ttotal: 20.9s\tremaining: 3.03s\n",
            "131:\tlearn: 0.9319299\ttotal: 21.1s\tremaining: 2.88s\n",
            "132:\tlearn: 0.9319299\ttotal: 21.2s\tremaining: 2.71s\n",
            "133:\tlearn: 0.9319780\ttotal: 21.4s\tremaining: 2.55s\n",
            "134:\tlearn: 0.9319780\ttotal: 21.6s\tremaining: 2.4s\n",
            "135:\tlearn: 0.9325079\ttotal: 21.7s\tremaining: 2.23s\n",
            "136:\tlearn: 0.9324598\ttotal: 21.9s\tremaining: 2.07s\n",
            "137:\tlearn: 0.9329897\ttotal: 22s\tremaining: 1.91s\n",
            "138:\tlearn: 0.9330860\ttotal: 22.2s\tremaining: 1.75s\n",
            "139:\tlearn: 0.9330860\ttotal: 22.3s\tremaining: 1.59s\n",
            "140:\tlearn: 0.9329415\ttotal: 22.5s\tremaining: 1.43s\n",
            "141:\tlearn: 0.9331342\ttotal: 22.6s\tremaining: 1.27s\n",
            "142:\tlearn: 0.9337123\ttotal: 22.8s\tremaining: 1.11s\n",
            "143:\tlearn: 0.9341459\ttotal: 22.9s\tremaining: 955ms\n",
            "144:\tlearn: 0.9343867\ttotal: 23.1s\tremaining: 796ms\n",
            "145:\tlearn: 0.9345794\ttotal: 23.2s\tremaining: 637ms\n",
            "146:\tlearn: 0.9345313\ttotal: 23.4s\tremaining: 478ms\n",
            "147:\tlearn: 0.9350130\ttotal: 23.5s\tremaining: 318ms\n",
            "148:\tlearn: 0.9352057\ttotal: 23.7s\tremaining: 159ms\n",
            "149:\tlearn: 0.9354947\ttotal: 23.8s\tremaining: 0us\n",
            "Best Parameters: {'depth': 8, 'iterations': 150, 'learning_rate': 0.2}\n"
          ]
        }
      ],
      "source": [
        "# Catboost\n",
        "param_grid = {'iterations': [50, 100, 150],\n",
        "    'depth': [4, 6, 8],\n",
        "    'learning_rate': [0.01, 0.1, 0.2]}\n",
        "cat = CatBoostClassifier(cat_features = cat_feat_indices,loss_function = 'MultiClass', eval_metric = \"Accuracy\",verbose = True)\n",
        "grid_search = GridSearchCV(estimator=cat, param_grid=param_grid, cv=3, scoring='accuracy', n_jobs=-1)\n",
        "\n",
        "# Fit the grid search to the data\n",
        "grid_search.fit(x_train, y_train)\n",
        "\n",
        "# Get the best parameters\n",
        "best_params = grid_search.best_params_\n",
        "print(\"Best Parameters:\", best_params)"
      ]
    },
    {
      "cell_type": "code",
      "source": [
        "best_cat = CatBoostClassifier(cat_features = cat_feat_indices,loss_function = 'MultiClass', eval_metric = \"Accuracy\", depth = 8, iterations = 150, learning_rate = 0.2, verbose = False)\n",
        "best_cat.fit(x_train,y_train)"
      ],
      "metadata": {
        "colab": {
          "base_uri": "https://localhost:8080/"
        },
        "id": "NaeeDR39xlYV",
        "outputId": "3d2cc738-7581-4662-8e6f-5cb77ed31a6a"
      },
      "execution_count": null,
      "outputs": [
        {
          "output_type": "stream",
          "name": "stdout",
          "text": [
            "0:\tlearn: 0.7581174\ttotal: 165ms\tremaining: 24.6s\n",
            "1:\tlearn: 0.8070623\ttotal: 400ms\tremaining: 29.6s\n",
            "2:\tlearn: 0.8274882\ttotal: 665ms\tremaining: 32.6s\n",
            "3:\tlearn: 0.8338954\ttotal: 916ms\tremaining: 33.4s\n",
            "4:\tlearn: 0.8464688\ttotal: 1.16s\tremaining: 33.6s\n",
            "5:\tlearn: 0.8567299\ttotal: 1.4s\tremaining: 33.5s\n",
            "6:\tlearn: 0.8607766\ttotal: 1.59s\tremaining: 32.5s\n",
            "7:\tlearn: 0.8645823\ttotal: 1.74s\tremaining: 30.8s\n",
            "8:\tlearn: 0.8682917\ttotal: 1.87s\tremaining: 29.3s\n",
            "9:\tlearn: 0.8720975\ttotal: 2.01s\tremaining: 28.1s\n",
            "10:\tlearn: 0.8757587\ttotal: 2.14s\tremaining: 27.1s\n",
            "11:\tlearn: 0.8765777\ttotal: 2.28s\tremaining: 26.3s\n",
            "12:\tlearn: 0.8806243\ttotal: 2.44s\tremaining: 25.7s\n",
            "13:\tlearn: 0.8815878\ttotal: 2.61s\tremaining: 25.3s\n",
            "14:\tlearn: 0.8834666\ttotal: 2.76s\tremaining: 24.8s\n",
            "15:\tlearn: 0.8850082\ttotal: 2.91s\tremaining: 24.4s\n",
            "16:\tlearn: 0.8877059\ttotal: 3.05s\tremaining: 23.9s\n",
            "17:\tlearn: 0.8892475\ttotal: 3.2s\tremaining: 23.4s\n",
            "18:\tlearn: 0.8905482\ttotal: 3.33s\tremaining: 23s\n",
            "19:\tlearn: 0.8917044\ttotal: 3.48s\tremaining: 22.6s\n",
            "20:\tlearn: 0.8939204\ttotal: 3.64s\tremaining: 22.4s\n",
            "21:\tlearn: 0.8949802\ttotal: 3.79s\tremaining: 22s\n",
            "22:\tlearn: 0.8959919\ttotal: 3.93s\tremaining: 21.7s\n",
            "23:\tlearn: 0.8963291\ttotal: 4.09s\tremaining: 21.5s\n",
            "24:\tlearn: 0.8971963\ttotal: 4.23s\tremaining: 21.2s\n",
            "25:\tlearn: 0.8983524\ttotal: 4.39s\tremaining: 20.9s\n",
            "26:\tlearn: 0.8994604\ttotal: 4.54s\tremaining: 20.7s\n",
            "27:\tlearn: 0.9002794\ttotal: 4.71s\tremaining: 20.5s\n",
            "28:\tlearn: 0.9012429\ttotal: 4.86s\tremaining: 20.3s\n",
            "29:\tlearn: 0.9011947\ttotal: 5.01s\tremaining: 20.1s\n",
            "30:\tlearn: 0.9018210\ttotal: 5.16s\tremaining: 19.8s\n",
            "31:\tlearn: 0.9027845\ttotal: 5.31s\tremaining: 19.6s\n",
            "32:\tlearn: 0.9037961\ttotal: 5.46s\tremaining: 19.4s\n",
            "33:\tlearn: 0.9038925\ttotal: 5.62s\tremaining: 19.2s\n",
            "34:\tlearn: 0.9043742\ttotal: 5.78s\tremaining: 19s\n",
            "35:\tlearn: 0.9046633\ttotal: 5.93s\tremaining: 18.8s\n",
            "36:\tlearn: 0.9049041\ttotal: 6.08s\tremaining: 18.6s\n",
            "37:\tlearn: 0.9055786\ttotal: 6.24s\tremaining: 18.4s\n",
            "38:\tlearn: 0.9057713\ttotal: 6.39s\tremaining: 18.2s\n",
            "39:\tlearn: 0.9064939\ttotal: 6.55s\tremaining: 18s\n",
            "40:\tlearn: 0.9068311\ttotal: 6.7s\tremaining: 17.8s\n",
            "41:\tlearn: 0.9072647\ttotal: 6.84s\tremaining: 17.6s\n",
            "42:\tlearn: 0.9076982\ttotal: 6.98s\tremaining: 17.4s\n",
            "43:\tlearn: 0.9078909\ttotal: 7.14s\tremaining: 17.2s\n",
            "44:\tlearn: 0.9086617\ttotal: 7.29s\tremaining: 17s\n",
            "45:\tlearn: 0.9087581\ttotal: 7.46s\tremaining: 16.9s\n",
            "46:\tlearn: 0.9095770\ttotal: 7.6s\tremaining: 16.7s\n",
            "47:\tlearn: 0.9100106\ttotal: 7.76s\tremaining: 16.5s\n",
            "48:\tlearn: 0.9111186\ttotal: 7.91s\tremaining: 16.3s\n",
            "49:\tlearn: 0.9112150\ttotal: 8.06s\tremaining: 16.1s\n",
            "50:\tlearn: 0.9119857\ttotal: 8.21s\tremaining: 15.9s\n",
            "51:\tlearn: 0.9121784\ttotal: 8.36s\tremaining: 15.8s\n",
            "52:\tlearn: 0.9124675\ttotal: 8.51s\tremaining: 15.6s\n",
            "53:\tlearn: 0.9132864\ttotal: 8.65s\tremaining: 15.4s\n",
            "54:\tlearn: 0.9133828\ttotal: 8.81s\tremaining: 15.2s\n",
            "55:\tlearn: 0.9133828\ttotal: 8.96s\tremaining: 15s\n",
            "56:\tlearn: 0.9134310\ttotal: 9.11s\tremaining: 14.9s\n",
            "57:\tlearn: 0.9141054\ttotal: 9.26s\tremaining: 14.7s\n",
            "58:\tlearn: 0.9143945\ttotal: 9.4s\tremaining: 14.5s\n",
            "59:\tlearn: 0.9150689\ttotal: 9.56s\tremaining: 14.3s\n",
            "60:\tlearn: 0.9150207\ttotal: 9.73s\tremaining: 14.2s\n",
            "61:\tlearn: 0.9159360\ttotal: 9.88s\tremaining: 14s\n",
            "62:\tlearn: 0.9164659\ttotal: 10s\tremaining: 13.9s\n",
            "63:\tlearn: 0.9162251\ttotal: 10.2s\tremaining: 13.7s\n",
            "64:\tlearn: 0.9168032\ttotal: 10.3s\tremaining: 13.5s\n",
            "65:\tlearn: 0.9168513\ttotal: 10.5s\tremaining: 13.3s\n",
            "66:\tlearn: 0.9175739\ttotal: 10.6s\tremaining: 13.1s\n",
            "67:\tlearn: 0.9181520\ttotal: 10.8s\tremaining: 13s\n",
            "68:\tlearn: 0.9180075\ttotal: 10.9s\tremaining: 12.8s\n",
            "69:\tlearn: 0.9182002\ttotal: 11.1s\tremaining: 12.6s\n",
            "70:\tlearn: 0.9188265\ttotal: 11.2s\tremaining: 12.5s\n",
            "71:\tlearn: 0.9187783\ttotal: 11.4s\tremaining: 12.3s\n",
            "72:\tlearn: 0.9190673\ttotal: 11.5s\tremaining: 12.2s\n",
            "73:\tlearn: 0.9191637\ttotal: 11.7s\tremaining: 12.1s\n",
            "74:\tlearn: 0.9192119\ttotal: 12s\tremaining: 12s\n",
            "75:\tlearn: 0.9195491\ttotal: 12.3s\tremaining: 12s\n",
            "76:\tlearn: 0.9198381\ttotal: 12.6s\tremaining: 11.9s\n",
            "77:\tlearn: 0.9199345\ttotal: 12.8s\tremaining: 11.8s\n",
            "78:\tlearn: 0.9199827\ttotal: 13s\tremaining: 11.7s\n",
            "79:\tlearn: 0.9203681\ttotal: 13.2s\tremaining: 11.5s\n",
            "80:\tlearn: 0.9205126\ttotal: 13.3s\tremaining: 11.4s\n",
            "81:\tlearn: 0.9206089\ttotal: 13.5s\tremaining: 11.2s\n",
            "82:\tlearn: 0.9206089\ttotal: 13.6s\tremaining: 11s\n",
            "83:\tlearn: 0.9204644\ttotal: 13.8s\tremaining: 10.8s\n",
            "84:\tlearn: 0.9205607\ttotal: 13.9s\tremaining: 10.7s\n",
            "85:\tlearn: 0.9213315\ttotal: 14.1s\tremaining: 10.5s\n",
            "86:\tlearn: 0.9211388\ttotal: 14.3s\tremaining: 10.3s\n",
            "87:\tlearn: 0.9212834\ttotal: 14.4s\tremaining: 10.2s\n",
            "88:\tlearn: 0.9222468\ttotal: 14.6s\tremaining: 9.99s\n",
            "89:\tlearn: 0.9221505\ttotal: 14.7s\tremaining: 9.82s\n",
            "90:\tlearn: 0.9227286\ttotal: 14.9s\tremaining: 9.65s\n",
            "91:\tlearn: 0.9226322\ttotal: 15s\tremaining: 9.48s\n",
            "92:\tlearn: 0.9229695\ttotal: 15.2s\tremaining: 9.32s\n",
            "93:\tlearn: 0.9234994\ttotal: 15.4s\tremaining: 9.15s\n",
            "94:\tlearn: 0.9238366\ttotal: 15.5s\tremaining: 8.98s\n",
            "95:\tlearn: 0.9242220\ttotal: 15.7s\tremaining: 8.81s\n",
            "96:\tlearn: 0.9244147\ttotal: 15.8s\tremaining: 8.63s\n",
            "97:\tlearn: 0.9247037\ttotal: 16s\tremaining: 8.47s\n",
            "98:\tlearn: 0.9248964\ttotal: 16.1s\tremaining: 8.3s\n",
            "99:\tlearn: 0.9253300\ttotal: 16.3s\tremaining: 8.13s\n",
            "100:\tlearn: 0.9253300\ttotal: 16.4s\tremaining: 7.97s\n",
            "101:\tlearn: 0.9251373\ttotal: 16.6s\tremaining: 7.8s\n",
            "102:\tlearn: 0.9252818\ttotal: 16.7s\tremaining: 7.64s\n",
            "103:\tlearn: 0.9256672\ttotal: 16.9s\tremaining: 7.47s\n",
            "104:\tlearn: 0.9258117\ttotal: 17s\tremaining: 7.3s\n",
            "105:\tlearn: 0.9262935\ttotal: 17.2s\tremaining: 7.13s\n",
            "106:\tlearn: 0.9263898\ttotal: 17.3s\tremaining: 6.97s\n",
            "107:\tlearn: 0.9266789\ttotal: 17.5s\tremaining: 6.8s\n",
            "108:\tlearn: 0.9268716\ttotal: 17.6s\tremaining: 6.64s\n",
            "109:\tlearn: 0.9267752\ttotal: 17.8s\tremaining: 6.47s\n",
            "110:\tlearn: 0.9273051\ttotal: 18s\tremaining: 6.31s\n",
            "111:\tlearn: 0.9275460\ttotal: 18.1s\tremaining: 6.14s\n",
            "112:\tlearn: 0.9276424\ttotal: 18.2s\tremaining: 5.97s\n",
            "113:\tlearn: 0.9275460\ttotal: 18.4s\tremaining: 5.81s\n",
            "114:\tlearn: 0.9281241\ttotal: 18.6s\tremaining: 5.64s\n",
            "115:\tlearn: 0.9278832\ttotal: 18.7s\tremaining: 5.48s\n",
            "116:\tlearn: 0.9282204\ttotal: 18.8s\tremaining: 5.31s\n",
            "117:\tlearn: 0.9286058\ttotal: 19s\tremaining: 5.15s\n",
            "118:\tlearn: 0.9292321\ttotal: 19.1s\tremaining: 4.99s\n",
            "119:\tlearn: 0.9289912\ttotal: 19.3s\tremaining: 4.82s\n",
            "120:\tlearn: 0.9291358\ttotal: 19.4s\tremaining: 4.66s\n",
            "121:\tlearn: 0.9289912\ttotal: 19.6s\tremaining: 4.5s\n",
            "122:\tlearn: 0.9291358\ttotal: 19.8s\tremaining: 4.34s\n",
            "123:\tlearn: 0.9296657\ttotal: 19.9s\tremaining: 4.17s\n",
            "124:\tlearn: 0.9299547\ttotal: 20.1s\tremaining: 4.01s\n",
            "125:\tlearn: 0.9299065\ttotal: 20.2s\tremaining: 3.85s\n",
            "126:\tlearn: 0.9304846\ttotal: 20.4s\tremaining: 3.69s\n",
            "127:\tlearn: 0.9308700\ttotal: 20.5s\tremaining: 3.52s\n",
            "128:\tlearn: 0.9312554\ttotal: 20.7s\tremaining: 3.36s\n",
            "129:\tlearn: 0.9314963\ttotal: 20.8s\tremaining: 3.2s\n",
            "130:\tlearn: 0.9316890\ttotal: 21s\tremaining: 3.04s\n",
            "131:\tlearn: 0.9319299\ttotal: 21.1s\tremaining: 2.88s\n",
            "132:\tlearn: 0.9319299\ttotal: 21.3s\tremaining: 2.72s\n",
            "133:\tlearn: 0.9319780\ttotal: 21.4s\tremaining: 2.56s\n",
            "134:\tlearn: 0.9319780\ttotal: 21.6s\tremaining: 2.4s\n",
            "135:\tlearn: 0.9325079\ttotal: 21.7s\tremaining: 2.24s\n",
            "136:\tlearn: 0.9324598\ttotal: 21.9s\tremaining: 2.08s\n",
            "137:\tlearn: 0.9329897\ttotal: 22.1s\tremaining: 1.92s\n",
            "138:\tlearn: 0.9330860\ttotal: 22.2s\tremaining: 1.76s\n",
            "139:\tlearn: 0.9330860\ttotal: 22.4s\tremaining: 1.6s\n",
            "140:\tlearn: 0.9329415\ttotal: 22.5s\tremaining: 1.44s\n",
            "141:\tlearn: 0.9331342\ttotal: 22.7s\tremaining: 1.28s\n",
            "142:\tlearn: 0.9337123\ttotal: 22.8s\tremaining: 1.12s\n",
            "143:\tlearn: 0.9341459\ttotal: 23s\tremaining: 957ms\n",
            "144:\tlearn: 0.9343867\ttotal: 23.2s\tremaining: 800ms\n",
            "145:\tlearn: 0.9345794\ttotal: 23.5s\tremaining: 644ms\n",
            "146:\tlearn: 0.9345313\ttotal: 23.8s\tremaining: 485ms\n",
            "147:\tlearn: 0.9350130\ttotal: 24s\tremaining: 325ms\n",
            "148:\tlearn: 0.9352057\ttotal: 24.3s\tremaining: 163ms\n",
            "149:\tlearn: 0.9354947\ttotal: 24.5s\tremaining: 0us\n"
          ]
        },
        {
          "output_type": "execute_result",
          "data": {
            "text/plain": [
              "<catboost.core.CatBoostClassifier at 0x7918a1720730>"
            ]
          },
          "metadata": {},
          "execution_count": 30
        }
      ]
    },
    {
      "cell_type": "code",
      "source": [
        "feature_importance = best_cat.get_feature_importance()\n",
        "\n",
        "importance_df = pd.DataFrame({'Feature': x_train.columns, 'Importance': feature_importance})\n",
        "\n",
        "importance_df = importance_df.sort_values(by='Importance', ascending=False)\n",
        "\n",
        "print(importance_df)"
      ],
      "metadata": {
        "colab": {
          "base_uri": "https://localhost:8080/"
        },
        "id": "vWXaAuEr6dSD",
        "outputId": "5f09da00-719a-404a-eaef-5d752e2f3af5"
      },
      "execution_count": null,
      "outputs": [
        {
          "output_type": "stream",
          "name": "stdout",
          "text": [
            "                           Feature  Importance\n",
            "3                           Weight   41.922776\n",
            "0                           Gender   11.019532\n",
            "2                           Height   10.010081\n",
            "6                             FCVC    6.266600\n",
            "1                              Age    5.896892\n",
            "14                            CALC    4.558131\n",
            "12                             FAF    3.638892\n",
            "13                             TUE    3.573506\n",
            "10                            CH2O    3.048229\n",
            "7                              NCP    2.694437\n",
            "15                          MTRANS    2.362774\n",
            "8                             CAEC    2.072633\n",
            "4   family_history_with_overweight    1.542637\n",
            "5                             FAVC    1.075527\n",
            "11                             SCC    0.300208\n",
            "9                            SMOKE    0.017145\n"
          ]
        }
      ]
    },
    {
      "cell_type": "code",
      "source": [
        "# SMOKE variable seems to be the least important variable, let's remove and see if accuracy improves on Kaggle\n",
        "x_train_sel = x_train.drop('SMOKE', axis = 1)\n",
        "x_test_sel = x_test.drop('SMOKE', axis = 1)\n",
        "cat_feat_indices_sel = [x_train_sel.columns.get_loc(col) for col in cat_feat_x if col != 'SMOKE']\n",
        "best_cat = CatBoostClassifier(cat_features = cat_feat_indices_sel,loss_function = 'MultiClass', eval_metric = \"Accuracy\", depth = 8, iterations = 150, learning_rate = 0.2, verbose = False)\n",
        "best_cat.fit(x_train_sel,y_train)\n",
        "\n",
        "# Improves accuracy score from 0.90281 to 0.90426"
      ],
      "metadata": {
        "id": "eue11rjh7DUt"
      },
      "execution_count": null,
      "outputs": []
    },
    {
      "cell_type": "code",
      "source": [
        "# Catboost\n",
        "param_grid = {'iterations': [50, 100, 150,200],\n",
        "    'depth': [4, 6, 8,10],\n",
        "    'learning_rate': [0.01, 0.1, 0.2, .3]}\n",
        "cat = CatBoostClassifier(cat_features = cat_feat_indices_sel,loss_function = 'MultiClass', eval_metric = \"Accuracy\",verbose = False)\n",
        "grid_search = GridSearchCV(estimator=cat, param_grid=param_grid, cv=3, scoring='accuracy', n_jobs=-1)\n",
        "\n",
        "# Fit the grid search to the data\n",
        "grid_search.fit(x_train_sel, y_train)\n",
        "\n",
        "# Get the best parameters\n",
        "best_params = grid_search.best_params_\n",
        "print(\"Best Parameters:\", best_params)"
      ],
      "metadata": {
        "colab": {
          "base_uri": "https://localhost:8080/"
        },
        "id": "PROXeczWBeNg",
        "outputId": "9ea652dc-fd3b-46d0-979b-9461543a6e9a"
      },
      "execution_count": null,
      "outputs": [
        {
          "output_type": "stream",
          "name": "stdout",
          "text": [
            "Best Parameters: {'depth': 6, 'iterations': 200, 'learning_rate': 0.2}\n"
          ]
        }
      ]
    },
    {
      "cell_type": "code",
      "source": [
        "# SMOKE and SCC variable seems to be the least important variable, let's remove and see if accuracy improves on Kaggle\n",
        "x_train_sel = x_train.drop(['SMOKE','SCC'], axis = 1)\n",
        "x_test_sel = x_test.drop(['SMOKE','SCC'], axis = 1)\n",
        "cat_feat_indices_sel = [x_train_sel.columns.get_loc(col) for col in cat_feat_x if col != 'SMOKE' and col != 'SCC']\n",
        "best_cat = CatBoostClassifier(cat_features = cat_feat_indices_sel,loss_function = 'MultiClass', eval_metric = \"Accuracy\", depth = 8, iterations = 150, learning_rate = 0.2, verbose = False)\n",
        "best_cat.fit(x_train_sel,y_train)\n",
        "\n",
        "# Reduces accuracy score from 0.90426 to 0.90137"
      ],
      "metadata": {
        "colab": {
          "base_uri": "https://localhost:8080/"
        },
        "id": "OyYPwyxQ-ML4",
        "outputId": "49d155f9-fd12-4c70-a6ec-8c920cdb2e1c"
      },
      "execution_count": null,
      "outputs": [
        {
          "output_type": "execute_result",
          "data": {
            "text/plain": [
              "<catboost.core.CatBoostClassifier at 0x7918a16c77c0>"
            ]
          },
          "metadata": {},
          "execution_count": 84
        }
      ]
    },
    {
      "cell_type": "code",
      "source": [
        "y_pred = best_cat.predict(x_test_sel).flatten()\n",
        "sample_submission = pd.DataFrame({'id': test_ids, 'NObeyesdad': y_pred})\n",
        "sample_submission.to_csv('/content/drive/MyDrive/sample_submission.csv', index=False)"
      ],
      "metadata": {
        "id": "aAlKDA9_zek2"
      },
      "execution_count": null,
      "outputs": []
    }
  ],
  "metadata": {
    "kernelspec": {
      "display_name": "base",
      "language": "python",
      "name": "python3"
    },
    "language_info": {
      "codemirror_mode": {
        "name": "ipython",
        "version": 3
      },
      "file_extension": ".py",
      "mimetype": "text/x-python",
      "name": "python",
      "nbconvert_exporter": "python",
      "pygments_lexer": "ipython3",
      "version": "3.11.4"
    },
    "orig_nbformat": 4,
    "colab": {
      "provenance": []
    }
  },
  "nbformat": 4,
  "nbformat_minor": 0
}