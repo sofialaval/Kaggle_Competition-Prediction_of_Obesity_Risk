{
  "cells": [
    {
      "cell_type": "code",
      "execution_count": null,
      "metadata": {
        "id": "ZV8Uar--iiO3"
      },
      "outputs": [],
      "source": [
        "import pandas as pd\n",
        "import numpy as np\n",
        "from sklearn.model_selection import train_test_split\n",
        "from sklearn.model_selection import GridSearchCV\n",
        "from sklearn.linear_model import LogisticRegression\n",
        "from sklearn.ensemble import GradientBoostingClassifier\n",
        "from xgboost import XGBClassifier\n",
        "import catboost\n",
        "from catboost import CatBoostClassifier\n",
        "from sklearn.metrics import accuracy_score, classification_report"
      ]
    },
    {
      "cell_type": "code",
      "source": [
        "from google.colab import drive\n",
        "drive.mount('/content/drive')"
      ],
      "metadata": {
        "colab": {
          "base_uri": "https://localhost:8080/"
        },
        "id": "vvD8m0zd4l7b",
        "outputId": "ba43011e-eb31-45aa-ce97-3fc29139b2bf"
      },
      "execution_count": null,
      "outputs": [
        {
          "output_type": "stream",
          "name": "stdout",
          "text": [
            "Mounted at /content/drive\n"
          ]
        }
      ]
    },
    {
      "cell_type": "code",
      "execution_count": null,
      "metadata": {
        "id": "STNDPvWfiiO_"
      },
      "outputs": [],
      "source": [
        "df_train = pd.read_csv(\"train-obesity.csv\")\n",
        "df_test = pd.read_csv(\"test-obesity.csv\")"
      ]
    },
    {
      "cell_type": "code",
      "execution_count": null,
      "metadata": {
        "id": "u9csM838iiPB"
      },
      "outputs": [],
      "source": [
        "# Store 'ids' for future use\n",
        "train_ids = df_train['id']\n",
        "test_ids = df_test['id']\n",
        "\n",
        "# Remove ID\n",
        "df_train = df_train.drop('id',axis = 1)\n",
        "df_test = df_test.drop('id',axis = 1)"
      ]
    },
    {
      "cell_type": "markdown",
      "metadata": {
        "id": "Bf8SzcFaiiPC"
      },
      "source": [
        "# Store Categorical Features"
      ]
    },
    {
      "cell_type": "code",
      "execution_count": null,
      "metadata": {
        "id": "LNUexliBiiPJ"
      },
      "outputs": [],
      "source": [
        "# Categorical Features\n",
        "cat_feat = df_train.select_dtypes(exclude=['number']).columns.tolist()\n",
        "cat_feat_x = [col for col in cat_feat if col != 'NObeyesdad' ]\n",
        "cat_feat_indices = [df_train.columns.get_loc(col) for col in cat_feat_x]"
      ]
    },
    {
      "cell_type": "markdown",
      "metadata": {
        "id": "Nt2Ledk7iiPK"
      },
      "source": [
        "## X and Y Split"
      ]
    },
    {
      "cell_type": "code",
      "execution_count": null,
      "metadata": {
        "id": "qTU6OQ91iiPM"
      },
      "outputs": [],
      "source": [
        "x_train = df_train.loc[:, ~df_train.columns.isin(['NObeyesdad'])]\n",
        "y_train = df_train['NObeyesdad']\n",
        "\n",
        "x_test = df_test.loc[:, ~df_test.columns.isin(['NObeyesdad'])]"
      ]
    },
    {
      "cell_type": "markdown",
      "metadata": {
        "id": "kR3qXmcsiiPP"
      },
      "source": [
        "# Boosting\n"
      ]
    },
    {
      "cell_type": "code",
      "execution_count": null,
      "metadata": {
        "id": "QYiLNBANiiPQ"
      },
      "outputs": [],
      "source": [
        "# Catboost\n",
        "param_grid = {'iterations': [50, 100, 150],\n",
        "    'depth': [4, 6, 8],\n",
        "    'learning_rate': [0.01, 0.1, 0.2]}\n",
        "cat = CatBoostClassifier(cat_features = cat_feat_indices,loss_function = 'MultiClass', eval_metric = \"Accuracy\",verbose = True)\n",
        "grid_search = GridSearchCV(estimator=cat, param_grid=param_grid, cv=3, scoring='accuracy', n_jobs=-1)\n",
        "\n",
        "# Fit the grid search to the data\n",
        "grid_search.fit(x_train, y_train)\n",
        "\n",
        "# Get the best parameters\n",
        "best_params = grid_search.best_params_\n",
        "print(\"Best Parameters:\", best_params)"
      ]
    },
    {
      "cell_type": "code",
      "source": [
        "best_cat = CatBoostClassifier(cat_features = cat_feat_indices,loss_function = 'MultiClass', eval_metric = \"Accuracy\", depth = 8, iterations = 150, learning_rate = 0.2, verbose = False)\n",
        "best_cat.fit(x_train,y_train)"
      ],
      "metadata": {
        "id": "NaeeDR39xlYV"
      },
      "execution_count": null,
      "outputs": []
    },
    {
      "cell_type": "code",
      "source": [
        "feature_importance = best_cat.get_feature_importance()\n",
        "\n",
        "importance_df = pd.DataFrame({'Feature': x_train.columns, 'Importance': feature_importance})\n",
        "\n",
        "importance_df = importance_df.sort_values(by='Importance', ascending=False)\n",
        "\n",
        "print(importance_df)"
      ],
      "metadata": {
        "colab": {
          "base_uri": "https://localhost:8080/"
        },
        "id": "vWXaAuEr6dSD",
        "outputId": "5f09da00-719a-404a-eaef-5d752e2f3af5"
      },
      "execution_count": null,
      "outputs": [
        {
          "output_type": "stream",
          "name": "stdout",
          "text": [
            "                           Feature  Importance\n",
            "3                           Weight   41.922776\n",
            "0                           Gender   11.019532\n",
            "2                           Height   10.010081\n",
            "6                             FCVC    6.266600\n",
            "1                              Age    5.896892\n",
            "14                            CALC    4.558131\n",
            "12                             FAF    3.638892\n",
            "13                             TUE    3.573506\n",
            "10                            CH2O    3.048229\n",
            "7                              NCP    2.694437\n",
            "15                          MTRANS    2.362774\n",
            "8                             CAEC    2.072633\n",
            "4   family_history_with_overweight    1.542637\n",
            "5                             FAVC    1.075527\n",
            "11                             SCC    0.300208\n",
            "9                            SMOKE    0.017145\n"
          ]
        }
      ]
    },
    {
      "cell_type": "code",
      "source": [
        "# SMOKE variable seems to be the least important variable, let's remove and see if accuracy improves on Kaggle\n",
        "x_train_sel = x_train.drop('SMOKE', axis = 1)\n",
        "x_test_sel = x_test.drop('SMOKE', axis = 1)\n",
        "cat_feat_indices_sel = [x_train_sel.columns.get_loc(col) for col in cat_feat_x if col != 'SMOKE']\n",
        "best_cat = CatBoostClassifier(cat_features = cat_feat_indices_sel,loss_function = 'MultiClass', eval_metric = \"Accuracy\", depth = 8, iterations = 150, learning_rate = 0.2, verbose = False)\n",
        "best_cat.fit(x_train_sel,y_train)\n",
        "\n",
        "# Improves accuracy score from 0.90281 to 0.90426"
      ],
      "metadata": {
        "id": "eue11rjh7DUt"
      },
      "execution_count": null,
      "outputs": []
    },
    {
      "cell_type": "code",
      "source": [
        "y_pred = best_cat.predict(x_test_sel).flatten()\n",
        "sample_submission = pd.DataFrame({'id': test_ids, 'NObeyesdad': y_pred})\n",
        "sample_submission.to_csv('/content/drive/MyDrive/sample_submission.csv', index=False)"
      ],
      "metadata": {
        "id": "aAlKDA9_zek2"
      },
      "execution_count": null,
      "outputs": []
    }
  ],
  "metadata": {
    "kernelspec": {
      "display_name": "base",
      "language": "python",
      "name": "python3"
    },
    "language_info": {
      "codemirror_mode": {
        "name": "ipython",
        "version": 3
      },
      "file_extension": ".py",
      "mimetype": "text/x-python",
      "name": "python",
      "nbconvert_exporter": "python",
      "pygments_lexer": "ipython3",
      "version": "3.11.4"
    },
    "orig_nbformat": 4,
    "colab": {
      "provenance": []
    }
  },
  "nbformat": 4,
  "nbformat_minor": 0
}