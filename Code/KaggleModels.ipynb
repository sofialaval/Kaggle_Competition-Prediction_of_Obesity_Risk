{
  "cells": [
    {
      "cell_type": "code",
      "execution_count": null,
      "metadata": {
        "id": "ZV8Uar--iiO3"
      },
      "outputs": [],
      "source": [
        "import pandas as pd\n",
        "from sklearn.model_selection import train_test_split\n",
        "from sklearn.model_selection import GridSearchCV\n",
        "import catboost\n",
        "from catboost import CatBoostClassifier"
      ]
    },
    {
      "cell_type": "code",
      "source": [
        "!pip show pandas"
      ],
      "metadata": {
        "colab": {
          "base_uri": "https://localhost:8080/"
        },
        "id": "e_Q3eGA5SV4a",
        "outputId": "b2ca86a4-240d-45ea-ba5b-e923a2b15bb1"
      },
      "execution_count": 7,
      "outputs": [
        {
          "output_type": "stream",
          "name": "stdout",
          "text": [
            "Name: pandas\n",
            "Version: 1.5.3\n",
            "Summary: Powerful data structures for data analysis, time series, and statistics\n",
            "Home-page: https://pandas.pydata.org\n",
            "Author: The Pandas Development Team\n",
            "Author-email: pandas-dev@python.org\n",
            "License: BSD-3-Clause\n",
            "Location: /usr/local/lib/python3.10/dist-packages\n",
            "Requires: numpy, python-dateutil, pytz\n",
            "Required-by: altair, arviz, bigframes, bokeh, bqplot, catboost, cmdstanpy, cufflinks, datascience, db-dtypes, dopamine-rl, fastai, geemap, geopandas, google-colab, gspread-dataframe, holoviews, ibis-framework, mizani, mlxtend, pandas-datareader, pandas-gbq, panel, pins, plotnine, prophet, pymc, seaborn, sklearn-pandas, statsmodels, vega-datasets, xarray, yfinance\n"
          ]
        }
      ]
    },
    {
      "cell_type": "code",
      "source": [
        "!pip install catboost"
      ],
      "metadata": {
        "colab": {
          "base_uri": "https://localhost:8080/"
        },
        "id": "7n9p84jRSHMh",
        "outputId": "4b4d85f4-d648-4bfa-e0d8-95cd4ebe9c8c"
      },
      "execution_count": 3,
      "outputs": [
        {
          "output_type": "stream",
          "name": "stdout",
          "text": [
            "Collecting catboost\n",
            "  Downloading catboost-1.2.3-cp310-cp310-manylinux2014_x86_64.whl (98.5 MB)\n",
            "\u001b[2K     \u001b[90m━━━━━━━━━━━━━━━━━━━━━━━━━━━━━━━━━━━━━━━━\u001b[0m \u001b[32m98.5/98.5 MB\u001b[0m \u001b[31m7.1 MB/s\u001b[0m eta \u001b[36m0:00:00\u001b[0m\n",
            "\u001b[?25hRequirement already satisfied: graphviz in /usr/local/lib/python3.10/dist-packages (from catboost) (0.20.1)\n",
            "Requirement already satisfied: matplotlib in /usr/local/lib/python3.10/dist-packages (from catboost) (3.7.1)\n",
            "Requirement already satisfied: numpy>=1.16.0 in /usr/local/lib/python3.10/dist-packages (from catboost) (1.25.2)\n",
            "Requirement already satisfied: pandas>=0.24 in /usr/local/lib/python3.10/dist-packages (from catboost) (1.5.3)\n",
            "Requirement already satisfied: scipy in /usr/local/lib/python3.10/dist-packages (from catboost) (1.11.4)\n",
            "Requirement already satisfied: plotly in /usr/local/lib/python3.10/dist-packages (from catboost) (5.15.0)\n",
            "Requirement already satisfied: six in /usr/local/lib/python3.10/dist-packages (from catboost) (1.16.0)\n",
            "Requirement already satisfied: python-dateutil>=2.8.1 in /usr/local/lib/python3.10/dist-packages (from pandas>=0.24->catboost) (2.8.2)\n",
            "Requirement already satisfied: pytz>=2020.1 in /usr/local/lib/python3.10/dist-packages (from pandas>=0.24->catboost) (2023.4)\n",
            "Requirement already satisfied: contourpy>=1.0.1 in /usr/local/lib/python3.10/dist-packages (from matplotlib->catboost) (1.2.0)\n",
            "Requirement already satisfied: cycler>=0.10 in /usr/local/lib/python3.10/dist-packages (from matplotlib->catboost) (0.12.1)\n",
            "Requirement already satisfied: fonttools>=4.22.0 in /usr/local/lib/python3.10/dist-packages (from matplotlib->catboost) (4.49.0)\n",
            "Requirement already satisfied: kiwisolver>=1.0.1 in /usr/local/lib/python3.10/dist-packages (from matplotlib->catboost) (1.4.5)\n",
            "Requirement already satisfied: packaging>=20.0 in /usr/local/lib/python3.10/dist-packages (from matplotlib->catboost) (23.2)\n",
            "Requirement already satisfied: pillow>=6.2.0 in /usr/local/lib/python3.10/dist-packages (from matplotlib->catboost) (9.4.0)\n",
            "Requirement already satisfied: pyparsing>=2.3.1 in /usr/local/lib/python3.10/dist-packages (from matplotlib->catboost) (3.1.1)\n",
            "Requirement already satisfied: tenacity>=6.2.0 in /usr/local/lib/python3.10/dist-packages (from plotly->catboost) (8.2.3)\n",
            "Installing collected packages: catboost\n",
            "Successfully installed catboost-1.2.3\n"
          ]
        }
      ]
    },
    {
      "cell_type": "code",
      "source": [
        "from google.colab import drive\n",
        "drive.mount('/content/drive')"
      ],
      "metadata": {
        "colab": {
          "base_uri": "https://localhost:8080/"
        },
        "id": "vvD8m0zd4l7b",
        "outputId": "ba43011e-eb31-45aa-ce97-3fc29139b2bf"
      },
      "execution_count": null,
      "outputs": [
        {
          "output_type": "stream",
          "name": "stdout",
          "text": [
            "Mounted at /content/drive\n"
          ]
        }
      ]
    },
    {
      "cell_type": "code",
      "execution_count": null,
      "metadata": {
        "id": "STNDPvWfiiO_"
      },
      "outputs": [],
      "source": [
        "df_train = pd.read_csv(\"train-obesity.csv\")\n",
        "df_test = pd.read_csv(\"test-obesity.csv\")"
      ]
    },
    {
      "cell_type": "code",
      "execution_count": null,
      "metadata": {
        "id": "u9csM838iiPB"
      },
      "outputs": [],
      "source": [
        "# Store 'ids' for future use\n",
        "train_ids = df_train['id']\n",
        "test_ids = df_test['id']\n",
        "\n",
        "# Remove ID\n",
        "df_train = df_train.drop('id',axis = 1)\n",
        "df_test = df_test.drop('id',axis = 1)"
      ]
    },
    {
      "cell_type": "markdown",
      "metadata": {
        "id": "Bf8SzcFaiiPC"
      },
      "source": [
        "# Store Categorical Features"
      ]
    },
    {
      "cell_type": "code",
      "execution_count": null,
      "metadata": {
        "id": "LNUexliBiiPJ"
      },
      "outputs": [],
      "source": [
        "# Categorical Features\n",
        "cat_feat = df_train.select_dtypes(exclude=['number']).columns.tolist()\n",
        "cat_feat_x = [col for col in cat_feat if col != 'NObeyesdad' ]\n",
        "cat_feat_indices = [df_train.columns.get_loc(col) for col in cat_feat_x]"
      ]
    },
    {
      "cell_type": "markdown",
      "metadata": {
        "id": "Nt2Ledk7iiPK"
      },
      "source": [
        "## X and Y Split"
      ]
    },
    {
      "cell_type": "code",
      "execution_count": null,
      "metadata": {
        "id": "qTU6OQ91iiPM"
      },
      "outputs": [],
      "source": [
        "x_train = df_train.loc[:, ~df_train.columns.isin(['NObeyesdad'])]\n",
        "y_train = df_train['NObeyesdad']\n",
        "\n",
        "x_test = df_test.loc[:, ~df_test.columns.isin(['NObeyesdad'])]"
      ]
    },
    {
      "cell_type": "markdown",
      "metadata": {
        "id": "kR3qXmcsiiPP"
      },
      "source": [
        "# Boosting\n"
      ]
    },
    {
      "cell_type": "code",
      "execution_count": null,
      "metadata": {
        "id": "QYiLNBANiiPQ"
      },
      "outputs": [],
      "source": [
        "# Catboost\n",
        "param_grid = {'iterations': [50, 100, 150],\n",
        "    'depth': [4, 6, 8],\n",
        "    'learning_rate': [0.01, 0.1, 0.2]}\n",
        "cat = CatBoostClassifier(cat_features = cat_feat_indices,loss_function = 'MultiClass', eval_metric = \"Accuracy\",verbose = True)\n",
        "grid_search = GridSearchCV(estimator=cat, param_grid=param_grid, cv=3, scoring='accuracy', n_jobs=-1)\n",
        "\n",
        "# Fit the grid search to the data\n",
        "grid_search.fit(x_train, y_train)\n",
        "\n",
        "# Get the best parameters\n",
        "best_params = grid_search.best_params_\n",
        "print(\"Best Parameters:\", best_params)"
      ]
    },
    {
      "cell_type": "code",
      "source": [
        "best_cat = CatBoostClassifier(cat_features = cat_feat_indices,loss_function = 'MultiClass', eval_metric = \"Accuracy\", depth = 8, iterations = 150, learning_rate = 0.2, verbose = False)\n",
        "best_cat.fit(x_train,y_train)"
      ],
      "metadata": {
        "id": "NaeeDR39xlYV"
      },
      "execution_count": null,
      "outputs": []
    },
    {
      "cell_type": "code",
      "source": [
        "feature_importance = best_cat.get_feature_importance()\n",
        "\n",
        "importance_df = pd.DataFrame({'Feature': x_train.columns, 'Importance': feature_importance})\n",
        "\n",
        "importance_df = importance_df.sort_values(by='Importance', ascending=False)\n",
        "\n",
        "print(importance_df)"
      ],
      "metadata": {
        "colab": {
          "base_uri": "https://localhost:8080/"
        },
        "id": "vWXaAuEr6dSD",
        "outputId": "5f09da00-719a-404a-eaef-5d752e2f3af5"
      },
      "execution_count": null,
      "outputs": [
        {
          "output_type": "stream",
          "name": "stdout",
          "text": [
            "                           Feature  Importance\n",
            "3                           Weight   41.922776\n",
            "0                           Gender   11.019532\n",
            "2                           Height   10.010081\n",
            "6                             FCVC    6.266600\n",
            "1                              Age    5.896892\n",
            "14                            CALC    4.558131\n",
            "12                             FAF    3.638892\n",
            "13                             TUE    3.573506\n",
            "10                            CH2O    3.048229\n",
            "7                              NCP    2.694437\n",
            "15                          MTRANS    2.362774\n",
            "8                             CAEC    2.072633\n",
            "4   family_history_with_overweight    1.542637\n",
            "5                             FAVC    1.075527\n",
            "11                             SCC    0.300208\n",
            "9                            SMOKE    0.017145\n"
          ]
        }
      ]
    },
    {
      "cell_type": "code",
      "source": [
        "# SMOKE variable seems to be the least important variable, let's remove and see if accuracy improves on Kaggle\n",
        "x_train_sel = x_train.drop('SMOKE', axis = 1)\n",
        "x_test_sel = x_test.drop('SMOKE', axis = 1)\n",
        "cat_feat_indices_sel = [x_train_sel.columns.get_loc(col) for col in cat_feat_x if col != 'SMOKE']\n",
        "best_cat = CatBoostClassifier(cat_features = cat_feat_indices_sel,loss_function = 'MultiClass', eval_metric = \"Accuracy\", depth = 8, iterations = 150, learning_rate = 0.2, verbose = False)\n",
        "best_cat.fit(x_train_sel,y_train)\n",
        "\n",
        "# Improves accuracy score from 0.90281 to 0.90426"
      ],
      "metadata": {
        "id": "eue11rjh7DUt"
      },
      "execution_count": null,
      "outputs": []
    },
    {
      "cell_type": "code",
      "source": [
        "y_pred = best_cat.predict(x_test_sel).flatten()\n",
        "sample_submission = pd.DataFrame({'id': test_ids, 'NObeyesdad': y_pred})\n",
        "sample_submission.to_csv('/content/drive/MyDrive/sample_submission.csv', index=False)"
      ],
      "metadata": {
        "id": "aAlKDA9_zek2"
      },
      "execution_count": null,
      "outputs": []
    }
  ],
  "metadata": {
    "kernelspec": {
      "display_name": "base",
      "language": "python",
      "name": "python3"
    },
    "language_info": {
      "codemirror_mode": {
        "name": "ipython",
        "version": 3
      },
      "file_extension": ".py",
      "mimetype": "text/x-python",
      "name": "python",
      "nbconvert_exporter": "python",
      "pygments_lexer": "ipython3",
      "version": "3.11.4"
    },
    "orig_nbformat": 4,
    "colab": {
      "provenance": []
    }
  },
  "nbformat": 4,
  "nbformat_minor": 0
}